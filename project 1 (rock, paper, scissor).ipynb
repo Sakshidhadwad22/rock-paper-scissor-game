{
 "cells": [
  {
   "cell_type": "code",
   "execution_count": 1,
   "id": "f0229807",
   "metadata": {},
   "outputs": [
    {
     "name": "stdout",
     "output_type": "stream",
     "text": [
      "Enter a choice (rock,paper,  scissor):-rock\n",
      "you chose= rock\n",
      "computer chose= paper\n",
      "paper cover rock! you lose.\n"
     ]
    }
   ],
   "source": [
    "import random\n",
    "#take user input\n",
    "user_action=input(\"Enter a choice (rock,paper,  scissor):-\")\n",
    "# make the computer chosse\n",
    "possible_action=[\"rock\",\"paper\",\"scissor\"]\n",
    "computer_action=random.choice(possible_action)\n",
    "#you have to print user and computer choice\n",
    "print(\"you chose=\",user_action)\n",
    "print(\"computer chose=\",computer_action)\n",
    "#determine a winner\n",
    "if user_action==computer_action:\n",
    "    print(\"Both players selected\",user_action,\"it is a tie!\")\n",
    "elif user_action==\"rock\":\n",
    "    if computer_action==\"scissor\":\n",
    "        print(\"rock smashes scissors! you win!\")\n",
    "    else:\n",
    "        print(\"paper cover rock! you lose.\")\n",
    "elif user_action==\"paper\":\n",
    "    if computer_action==\"rock\":\n",
    "        print(\"paper cover rock! you win!\")\n",
    "    else:\n",
    "        print(\"scissors cuts paper! you lose.\")\n",
    "elif user_action==\"scissor\":\n",
    "    if computer_action==\"rock\":\n",
    "        print(\"rock smashes scissors! you lose.\")\n",
    "    else:\n",
    "        print(\"scissors cuts paper! you win!\")"
   ]
  },
  {
   "cell_type": "code",
   "execution_count": null,
   "id": "39a4beba",
   "metadata": {},
   "outputs": [],
   "source": []
  }
 ],
 "metadata": {
  "kernelspec": {
   "display_name": "Python 3 (ipykernel)",
   "language": "python",
   "name": "python3"
  },
  "language_info": {
   "codemirror_mode": {
    "name": "ipython",
    "version": 3
   },
   "file_extension": ".py",
   "mimetype": "text/x-python",
   "name": "python",
   "nbconvert_exporter": "python",
   "pygments_lexer": "ipython3",
   "version": "3.9.12"
  }
 },
 "nbformat": 4,
 "nbformat_minor": 5
}
